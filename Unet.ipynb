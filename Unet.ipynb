{
 "cells": [
  {
   "cell_type": "code",
   "execution_count": 1,
   "metadata": {},
   "outputs": [
    {
     "name": "stderr",
     "output_type": "stream",
     "text": [
      "/hpc_share/ee217092/.venv/lib/python3.8/site-packages/tqdm/auto.py:21: TqdmWarning: IProgress not found. Please update jupyter and ipywidgets. See https://ipywidgets.readthedocs.io/en/stable/user_install.html\n",
      "  from .autonotebook import tqdm as notebook_tqdm\n"
     ]
    }
   ],
   "source": [
    "import torch\n",
    "from torch import nn\n",
    "import os\n",
    "#os.environ['CUDA_LAUNCH_BLOCKING'] = \"1\"\n",
    "import torchvision.transforms as transforms\n",
    "import numpy as np\n",
    "import matplotlib.pyplot as plt\n",
    "import math\n",
    "import torchvision\n",
    "from torch.utils.data import DataLoader\n",
    "from torch.optim import Adam\n",
    "import torch.nn.functional as F\n",
    "from tqdm import tqdm"
   ]
  },
  {
   "cell_type": "code",
   "execution_count": null,
   "metadata": {},
   "outputs": [
    {
     "ename": "",
     "evalue": "",
     "output_type": "error",
     "traceback": [
      "\u001b[1;31mカーネルを起動できませんでした。 \n",
      "\u001b[1;31mカーネル (Kernel) '.venv (Python 3.8.2)' を開始できませんでした。 \n",
      "\u001b[1;31m詳細については、Jupyter <a href='command:jupyter.viewOutput'>log</a> を参照してください。 Unknown system error -122: Unknown system error -122, close"
     ]
    }
   ],
   "source": [
    "class ConvBlock(nn.Module):\n",
    "    def __init__(self, in_ch, out_ch, time_embed_dim):\n",
    "        super().__init__()\n",
    "        self.convs = nn.Sequential(\n",
    "            nn.Conv2d(in_ch, out_ch, 3, padding=1),\n",
    "            nn.BatchNorm2d(out_ch),\n",
    "            nn.ReLU(),\n",
    "            nn.Conv2d(out_ch, out_ch, 3, padding=1),\n",
    "            nn.BatchNorm2d(out_ch),\n",
    "            nn.ReLU()\n",
    "        )\n",
    "        self.mlp = nn.Sequential(\n",
    "            nn.Linear(time_embed_dim, in_ch),\n",
    "            nn.ReLU(),\n",
    "            nn.Linear(in_ch, in_ch)\n",
    "        )\n",
    "\n",
    "    def forward(self, x, t):\n",
    "        N, C, _, _ = x.shape\n",
    "        t = self.mlp(t)\n",
    "        try:\n",
    "            t = t.view(N, C, 1, 1)\n",
    "            y = self.convs(x + t)\n",
    "        except Exception as e:\n",
    "            print(x.shape, t.shape)\n",
    "        return y"
   ]
  },
  {
   "cell_type": "code",
   "execution_count": null,
   "metadata": {},
   "outputs": [
    {
     "ename": "",
     "evalue": "",
     "output_type": "error",
     "traceback": [
      "\u001b[1;31mカーネルを起動できませんでした。 \n",
      "\u001b[1;31mカーネル (Kernel) '.venv (Python 3.8.2)' を開始できませんでした。 \n",
      "\u001b[1;31m詳細については、Jupyter <a href='command:jupyter.viewOutput'>log</a> を参照してください。 Unknown system error -122: Unknown system error -122, close"
     ]
    }
   ],
   "source": [
    "def _pos_encoding(t, output_dim, device=\"cpu\"):\n",
    "    D = output_dim\n",
    "    v = torch.zeros(D, device=device)\n",
    "\n",
    "    i = torch.arange(0, D, device=device)  # ①i = [0, 1, ..., D-1]\n",
    "    div_term = 10000 ** (i / D)\n",
    "\n",
    "    # ②偶数の位置にsin、奇数の位置にcos\n",
    "    v[0::2] = torch.sin(t / div_term[::2])\n",
    "    v[1::2] = torch.cos(t / div_term[1::2])\n",
    "    return v\n",
    "\n",
    "\n",
    "# 使用例\n",
    "v = _pos_encoding(1, 16)\n",
    "print(v.shape)  # (16,)"
   ]
  },
  {
   "cell_type": "code",
   "execution_count": null,
   "metadata": {},
   "outputs": [
    {
     "ename": "",
     "evalue": "",
     "output_type": "error",
     "traceback": [
      "\u001b[1;31mカーネルを起動できませんでした。 \n",
      "\u001b[1;31mカーネル (Kernel) '.venv (Python 3.8.2)' を開始できませんでした。 \n",
      "\u001b[1;31m詳細については、Jupyter <a href='command:jupyter.viewOutput'>log</a> を参照してください。 Unknown system error -122: Unknown system error -122, close"
     ]
    }
   ],
   "source": [
    "def pos_encoding(ts, output_dim, device='cpu'):\n",
    "    batch_size = len(ts)\n",
    "    v = torch.zeros(batch_size, output_dim, device=device)\n",
    "    for i in range(batch_size):\n",
    "        v[i] = _pos_encoding(ts[i], output_dim, device)\n",
    "    return v"
   ]
  },
  {
   "cell_type": "code",
   "execution_count": null,
   "metadata": {},
   "outputs": [
    {
     "ename": "",
     "evalue": "",
     "output_type": "error",
     "traceback": [
      "\u001b[1;31mカーネルを起動できませんでした。 \n",
      "\u001b[1;31mカーネル (Kernel) '.venv (Python 3.8.2)' を開始できませんでした。 \n",
      "\u001b[1;31m詳細については、Jupyter <a href='command:jupyter.viewOutput'>log</a> を参照してください。 Unknown system error -122: Unknown system error -122, close"
     ]
    }
   ],
   "source": [
    "class UNet(nn.Module):\n",
    "    def __init__(self, out_ch=1, time_dim=100):\n",
    "        super().__init__()\n",
    "        self.time_dim = time_dim\n",
    "\n",
    "        self.down1 = ConvBlock(3, 64, time_dim)\n",
    "        self.down2 = ConvBlock(64, 128, time_dim)\n",
    "        self.bot1 = ConvBlock(128, 256, time_dim)\n",
    "        self.up2 = ConvBlock(128 + 256, 128, time_dim)\n",
    "        self.up1 = ConvBlock(128 + 64, 64, time_dim)\n",
    "        self.out = nn.Conv2d(64, out_ch, 1)\n",
    "\n",
    "        self.maxpool = nn.MaxPool2d(2)\n",
    "        self.upsample = nn.Upsample(scale_factor=2, mode='bilinear')\n",
    "\n",
    "    def forward(self, x, t):\n",
    "        v = pos_encoding(t, self.time_dim, x.device)  # 正弦波位置エンコーディング\n",
    "\n",
    "        x1 = self.down1(x, v)\n",
    "        x = self.maxpool(x1)\n",
    "        x2 = self.down2(x, v)\n",
    "        x = self.maxpool(x2)\n",
    "\n",
    "        x = self.bot1(x, v)\n",
    "\n",
    "        x = self.upsample(x)\n",
    "        x = torch.cat([x, x2], dim=1)\n",
    "        x = self.up2(x, v)\n",
    "        x = self.upsample(x)\n",
    "        x = torch.cat([x, x1], dim=1)\n",
    "        x = self.up1(x, v)\n",
    "        x = self.out(x)\n",
    "        return x"
   ]
  },
  {
   "cell_type": "code",
   "execution_count": null,
   "metadata": {},
   "outputs": [
    {
     "ename": "",
     "evalue": "",
     "output_type": "error",
     "traceback": [
      "\u001b[1;31mカーネルを起動できませんでした。 \n",
      "\u001b[1;31mカーネル (Kernel) '.venv (Python 3.8.2)' を開始できませんでした。 \n",
      "\u001b[1;31m詳細については、Jupyter <a href='command:jupyter.viewOutput'>log</a> を参照してください。 Unknown system error -122: Unknown system error -122, close"
     ]
    }
   ],
   "source": [
    "x = torch.randn(3, 64, 64)  # ダミーデータ\n",
    "T = 1000\n",
    "betas = torch.linspace(0.0001, 0.02, T)\n",
    "\n",
    "for t in range(T):\n",
    "    beta = betas[t]\n",
    "    eps = torch.randn_like(x)  # xと同じ形状のガウスノイズを生成\n",
    "    x = torch.sqrt(1 - beta) * x + torch.sqrt(beta) * eps"
   ]
  },
  {
   "cell_type": "code",
   "execution_count": null,
   "metadata": {},
   "outputs": [
    {
     "ename": "",
     "evalue": "",
     "output_type": "error",
     "traceback": [
      "\u001b[1;31mカーネルを起動できませんでした。 \n",
      "\u001b[1;31mカーネル (Kernel) '.venv (Python 3.8.2)' を開始できませんでした。 \n",
      "\u001b[1;31m詳細については、Jupyter <a href='command:jupyter.viewOutput'>log</a> を参照してください。 Unknown system error -122: Unknown system error -122, close"
     ]
    }
   ],
   "source": [
    "# 画像の読み込み\n",
    "#current_dir = os.path.dirname(os.path.abspath(__file__))\n",
    "#file_path = os.path.join(current_dir, 'buiiki.png')\n",
    "file_path = 'buiiki.png'\n",
    "image = plt.imread(file_path)\n",
    "print(image.shape)  # (64, 64, 3)\n",
    "\n",
    "# 画像の前処理を定義\n",
    "preprocess = transforms.ToTensor()\n",
    "x = preprocess(image)\n",
    "print(x.shape)  # (3, 64, 64)"
   ]
  },
  {
   "cell_type": "code",
   "execution_count": null,
   "metadata": {},
   "outputs": [
    {
     "ename": "",
     "evalue": "",
     "output_type": "error",
     "traceback": [
      "\u001b[1;31mカーネルを起動できませんでした。 \n",
      "\u001b[1;31mカーネル (Kernel) '.venv (Python 3.8.2)' を開始できませんでした。 \n",
      "\u001b[1;31m詳細については、Jupyter <a href='command:jupyter.viewOutput'>log</a> を参照してください。 Unknown system error -122: Unknown system error -122, close"
     ]
    }
   ],
   "source": [
    "def reverse_to_img(x):\n",
    "    x = x * 255\n",
    "    x = x.clamp(0, 255)\n",
    "    x = x.to(torch.uint8)\n",
    "    to_pil = transforms.ToPILImage()\n",
    "    return to_pil(x)"
   ]
  },
  {
   "cell_type": "code",
   "execution_count": null,
   "metadata": {},
   "outputs": [
    {
     "ename": "",
     "evalue": "",
     "output_type": "error",
     "traceback": [
      "\u001b[1;31mカーネルを起動できませんでした。 \n",
      "\u001b[1;31mカーネル (Kernel) '.venv (Python 3.8.2)' を開始できませんでした。 \n",
      "\u001b[1;31m詳細については、Jupyter <a href='command:jupyter.viewOutput'>log</a> を参照してください。 Unknown system error -122: Unknown system error -122, close"
     ]
    }
   ],
   "source": [
    "T = 1000\n",
    "beta_start = 0.0001\n",
    "beta_end = 0.02\n",
    "betas = torch.linspace(beta_start, beta_end, T)\n",
    "imgs = []\n",
    "\n",
    "for t in range(T):\n",
    "    if t % 100 == 0:\n",
    "        img = reverse_to_img(x)\n",
    "        imgs.append(img)\n",
    "\n",
    "    beta = betas[t]\n",
    "    eps = torch.randn_like(x)\n",
    "    x = torch.sqrt(1 - beta) * x + torch.sqrt(beta) * eps\n",
    "\n",
    "# 10個の画像を2行5列で表示する\n",
    "plt.figure(figsize=(15, 6))\n",
    "for i, img in enumerate(imgs[:10]):\n",
    "    plt.subplot(2, 5, i + 1)\n",
    "    plt.imshow(img)\n",
    "    plt.title(f'Noise: {i * 100}')\n",
    "    plt.axis('off')\n",
    "plt.show()"
   ]
  },
  {
   "cell_type": "code",
   "execution_count": null,
   "metadata": {},
   "outputs": [
    {
     "ename": "",
     "evalue": "",
     "output_type": "error",
     "traceback": [
      "\u001b[1;31mカーネルを起動できませんでした。 \n",
      "\u001b[1;31mカーネル (Kernel) '.venv (Python 3.8.2)' を開始できませんでした。 \n",
      "\u001b[1;31m詳細については、Jupyter <a href='command:jupyter.viewOutput'>log</a> を参照してください。 Unknown system error -122: Unknown system error -122, close"
     ]
    }
   ],
   "source": [
    "x = torch.tensor([1, 2, 3, 4])\n",
    "output = torch.cumprod(x, dim=0)\n",
    "\n",
    "print(output)"
   ]
  },
  {
   "cell_type": "code",
   "execution_count": null,
   "metadata": {},
   "outputs": [
    {
     "ename": "",
     "evalue": "",
     "output_type": "error",
     "traceback": [
      "\u001b[1;31mカーネルを起動できませんでした。 \n",
      "\u001b[1;31mカーネル (Kernel) '.venv (Python 3.8.2)' を開始できませんでした。 \n",
      "\u001b[1;31m詳細については、Jupyter <a href='command:jupyter.viewOutput'>log</a> を参照してください。 Unknown system error -122: Unknown system error -122, close"
     ]
    }
   ],
   "source": [
    "img = plt.imread(file_path)\n",
    "x = preprocess(img)\n",
    "\n",
    "T = 1000\n",
    "beta_start = 0.0001\n",
    "beta_end = 0.02\n",
    "betas = torch.linspace(beta_start, beta_end, T)\n",
    "\n",
    "def add_noise(x_0, t, betas):\n",
    "    alphas = 1 - betas\n",
    "    alpha_bars = torch.cumprod(alphas, dim=0)\n",
    "    alpha_bar = alpha_bars[t]\n",
    "\n",
    "    eps = torch.randn_like(x_0)\n",
    "    x_t = torch.sqrt(alpha_bar) * x_0 + torch.sqrt(1 - alpha_bar) * eps\n",
    "    return x_t\n",
    "\n",
    "# 時刻100のノイズ画像を生成\n",
    "t = 100\n",
    "x_t = add_noise(x, t, betas)\n",
    "\n",
    "# 画像の表示\n",
    "img = reverse_to_img(x_t)\n",
    "plt.imshow(img)\n",
    "plt.title(f'Noise: {t}')\n",
    "plt.axis('off')\n",
    "plt.show()"
   ]
  },
  {
   "cell_type": "code",
   "execution_count": null,
   "metadata": {},
   "outputs": [
    {
     "ename": "",
     "evalue": "",
     "output_type": "error",
     "traceback": [
      "\u001b[1;31mカーネルを起動できませんでした。 \n",
      "\u001b[1;31mカーネル (Kernel) '.venv (Python 3.8.2)' を開始できませんでした。 \n",
      "\u001b[1;31m詳細については、Jupyter <a href='command:jupyter.viewOutput'>log</a> を参照してください。 Unknown system error -122: Unknown system error -122, close"
     ]
    }
   ],
   "source": [
    "class Diffuser:\n",
    "    def __init__(self, num_timesteps=1000, beta_start=0.0001, beta_end=0.02, device=\"cuda\"):\n",
    "        self.num_timesteps = num_timesteps\n",
    "        self.device = device\n",
    "        self.betas = torch.linspace(beta_start, beta_end, num_timesteps, device=device)\n",
    "        self.alphas = 1 - self.betas\n",
    "        self.alpha_bars = torch.cumprod(self.alphas, dim=0)\n",
    "\n",
    "    def add_noise(self, x_0, t):\n",
    "        # ① ======================================\n",
    "        alpha_bar = self.alpha_bars[t].to(self.device)  # (N,)\n",
    "        N = alpha_bar.size(0)\n",
    "        alpha_bar = alpha_bar.view(N, 1, 1, 1)  # (N, 1, 1, 1)\n",
    "        # ========================================\n",
    "        noise = torch.randn_like(x_0, device=self.device)\n",
    "        x_t = torch.sqrt(alpha_bar) * x_0 + torch.sqrt(1 - alpha_bar) * noise\n",
    "        return x_t, noise\n",
    "    \n",
    "    def denoise(self, model, x, t):\n",
    "        alpha = self.alphas[t]\n",
    "        alpha_bar = self.alpha_bars[t].to(self.device)\n",
    "        alpha_bar_prev = self.alpha_bars[t-1]\n",
    "\n",
    "        # ブロードキャストが正しく行われるための設定\n",
    "        N = alpha.size(0)\n",
    "        alpha = alpha.view(N, 1, 1, 1)\n",
    "        alpha_bar = alpha_bar.view(N, 1, 1, 1)\n",
    "        alpha_bar_prev = alpha_bar_prev.view(N, 1, 1, 1)\n",
    "\n",
    "        # ニューラルネットワークの実行\n",
    "        model.eval()  # 評価モードにする\n",
    "        with torch.no_grad():\n",
    "            eps = model(x, t)\n",
    "        model.train()\n",
    "\n",
    "        mu = (x - ((1-alpha) / torch.sqrt(1-alpha_bar)) * eps) / torch.sqrt(alpha)\n",
    "\n",
    "        if t[0] == 0:\n",
    "            return mu\n",
    "        else:\n",
    "            noise = torch.randn_like(x, device=self.device)\n",
    "            variance = (1-alpha) * (1-alpha_bar_prev) / (1-alpha_bar)\n",
    "\n",
    "            return mu + noise * torch.sqrt(variance)\n",
    "    def reverse_to_img(self, x):\n",
    "        x = x * 255.\n",
    "        x = x.clamp(0, 255)\n",
    "        x = x.to(torch.uint8)\n",
    "        x = x.cpu()\n",
    "        to_pil = transforms.ToPILImage()\n",
    "        return to_pil(x)\n",
    "    \n",
    "    def sample(self, model, x_shape=(20, 1, 28, 28)):\n",
    "        batch_size = x_shape[0]\n",
    "        x = torch.randn(x_shape, device=self.device)\n",
    "\n",
    "        # self.num_timestepsの値から1ずつ減らしていく逆順のループ\n",
    "        for i in tqdm(range(self.num_timesteps)[::-1]):\n",
    "            t = torch.tensor([i] * batch_size, device=self.device, dtype=torch.long)\n",
    "            x = self.denoise(model, x, t)\n",
    "\n",
    "        images = [self.reverse_to_img(x[i]) for i in range(batch_size)]\n",
    "        return images"
   ]
  },
  {
   "cell_type": "code",
   "execution_count": null,
   "metadata": {},
   "outputs": [
    {
     "ename": "",
     "evalue": "",
     "output_type": "error",
     "traceback": [
      "\u001b[1;31mカーネルを起動できませんでした。 \n",
      "\u001b[1;31mカーネル (Kernel) '.venv (Python 3.8.2)' を開始できませんでした。 \n",
      "\u001b[1;31m詳細については、Jupyter <a href='command:jupyter.viewOutput'>log</a> を参照してください。 Unknown system error -122: Unknown system error -122, close"
     ]
    }
   ],
   "source": [
    "img_size = 28\n",
    "batch_size = 128\n",
    "timesteps = 1000\n",
    "epochs = 10\n",
    "lr = 1e-3\n",
    "device = \"cuda\" if torch.cuda.is_available() else \"cpu\"\n",
    "\n",
    "\n",
    "def show_images(images, rows=2, cols=10):\n",
    "    fig = plt.figure(figsize=(cols, rows))\n",
    "    i = 0\n",
    "    for r in range(rows):\n",
    "        for c in range(cols):\n",
    "            fig.add_subplot(rows, cols, i + 1)\n",
    "            plt.imshow(images[i], cmap=\"gray\")\n",
    "            plt.axis('off')  # 縦軸、横軸を非表示にする\n",
    "            i += 1\n",
    "    plt.show()\n",
    "\n",
    "\n",
    "\n"
   ]
  },
  {
   "cell_type": "code",
   "execution_count": null,
   "metadata": {},
   "outputs": [
    {
     "ename": "",
     "evalue": "",
     "output_type": "error",
     "traceback": [
      "\u001b[1;31mカーネルを起動できませんでした。 \n",
      "\u001b[1;31mカーネル (Kernel) '.venv (Python 3.8.2)' を開始できませんでした。 \n",
      "\u001b[1;31m詳細については、Jupyter <a href='command:jupyter.viewOutput'>log</a> を参照してください。 Unknown system error -122: Unknown system error -122, close"
     ]
    }
   ],
   "source": [
    "\n",
    "preprocess = transforms.Compose([\n",
    "    transforms.ToTensor(),\n",
    "    transforms.Normalize((0.5,), (0.5,))\n",
    "])\n",
    "\n",
    "#preprocess = transforms.ToTensor()\n",
    "dataset = torchvision.datasets.CIFAR10(root=\"./data\", download=True, transform=preprocess)"
   ]
  },
  {
   "cell_type": "code",
   "execution_count": null,
   "metadata": {},
   "outputs": [
    {
     "ename": "",
     "evalue": "",
     "output_type": "error",
     "traceback": [
      "\u001b[1;31mカーネルを起動できませんでした。 \n",
      "\u001b[1;31mカーネル (Kernel) '.venv (Python 3.8.2)' を開始できませんでした。 \n",
      "\u001b[1;31m詳細については、Jupyter <a href='command:jupyter.viewOutput'>log</a> を参照してください。 Unknown system error -122: Unknown system error -122, close"
     ]
    }
   ],
   "source": [
    "# 数字の4だけを取り出す\n",
    "#dataset.data = dataset.data[dataset.targets == 4]\n",
    "#dataset.targets = dataset.targets[dataset.targets == 4]\n",
    "#dataloader = DataLoader(dataset, batch_size=batch_size, shuffle=True)"
   ]
  },
  {
   "cell_type": "code",
   "execution_count": null,
   "metadata": {},
   "outputs": [
    {
     "ename": "",
     "evalue": "",
     "output_type": "error",
     "traceback": [
      "\u001b[1;31mカーネルを起動できませんでした。 \n",
      "\u001b[1;31mカーネル (Kernel) '.venv (Python 3.8.2)' を開始できませんでした。 \n",
      "\u001b[1;31m詳細については、Jupyter <a href='command:jupyter.viewOutput'>log</a> を参照してください。 Unknown system error -122: Unknown system error -122, close"
     ]
    }
   ],
   "source": [
    "diffuser = Diffuser(timesteps)\n",
    "model = UNet()\n",
    "model.to(device)\n",
    "optimizer = Adam(model.parameters(), lr=lr)"
   ]
  },
  {
   "cell_type": "code",
   "execution_count": null,
   "metadata": {},
   "outputs": [
    {
     "ename": "",
     "evalue": "",
     "output_type": "error",
     "traceback": [
      "\u001b[1;31mカーネルを起動できませんでした。 \n",
      "\u001b[1;31mカーネル (Kernel) '.venv (Python 3.8.2)' を開始できませんでした。 \n",
      "\u001b[1;31m詳細については、Jupyter <a href='command:jupyter.viewOutput'>log</a> を参照してください。 Unknown system error -122: Unknown system error -122, close"
     ]
    }
   ],
   "source": [
    "losses = []\n",
    "cnt = 0\n",
    "for epoch in range(epochs):\n",
    "    loss_sum = 0.0\n",
    "    cnt = cnt + 1\n",
    "\n",
    "    #エポックごとにデータ生成して結果を確認したい場合は下記のコメントアウトをとる\n",
    "    images = diffuser.sample(model)\n",
    "    show_images(images)\n",
    "\n",
    "    for batch in tqdm(dataloader):\n",
    "        optimizer.zero_grad()\n",
    "        x = batch[0].to(device)\n",
    "        t = torch.randint(0, timesteps, (len(x),)).long().to(device)\n",
    "\n",
    "        x_noisy, noise = diffuser.add_noise(x, t)\n",
    "        noise_pred = model(x_noisy, t)\n",
    "        loss = F.mse_loss(noise, noise_pred)\n",
    "\n",
    "        loss.backward()\n",
    "        optimizer.step()\n",
    "        losses.append(loss.item())\n",
    "\n",
    "    loss_avg = loss_sum / cnt\n",
    "    losses.append(loss_avg)\n",
    "    print(f\"Epoch {epoch} | Loss: {loss_avg}\")\n",
    "\n",
    "# 損失のグラフ\n",
    "plt.plot(losses)\n",
    "\n",
    "# 画像を生成\n",
    "images = diffuser.sample(model)\n",
    "show_images(images)"
   ]
  }
 ],
 "metadata": {
  "kernelspec": {
   "display_name": "base",
   "language": "python",
   "name": "python3"
  },
  "language_info": {
   "codemirror_mode": {
    "name": "ipython",
    "version": 3
   },
   "file_extension": ".py",
   "mimetype": "text/x-python",
   "name": "python",
   "nbconvert_exporter": "python",
   "pygments_lexer": "ipython3",
   "version": "3.8.2"
  }
 },
 "nbformat": 4,
 "nbformat_minor": 2
}
