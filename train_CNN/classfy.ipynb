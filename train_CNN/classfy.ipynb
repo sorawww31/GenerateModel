{
 "cells": [
  {
   "cell_type": "code",
   "execution_count": 4,
   "metadata": {},
   "outputs": [],
   "source": [
    "import torch\n",
    "import torch.nn as nn\n",
    "import torch.nn.functional as F\n",
    "import torch.optim as optim\n",
    "from torchvision import datasets, transforms\n",
    "from torch.utils.data import DataLoader\n",
    "import torchvision\n",
    "from tqdm import tqdm\n",
    "import matplotlib.pyplot as plt\n",
    "from IPython.display import clear_output\n"
   ]
  },
  {
   "cell_type": "code",
   "execution_count": 5,
   "metadata": {},
   "outputs": [],
   "source": [
    "class ConvNet(nn.Module):\n",
    "    def __init__(self,in_ch=1,out_ch=10,image_size=32):\n",
    "        super(ConvNet, self).__init__()\n",
    "        self.net = \\\n",
    "            nn.Sequential(\n",
    "            nn.Conv2d(in_ch, 16, kernel_size=3, stride = 1, padding=1),#( (32 + 2*1 - 3) / 1 + 1 = 32\n",
    "            nn.BatchNorm2d(num_features= 16),\n",
    "            nn.ReLU(),\n",
    "            nn.Conv2d(16,16,kernel_size=3, stride=1, padding=1),\n",
    "            nn.BatchNorm2d(num_features=16),\n",
    "            nn.ReLU(),\n",
    "            nn.MaxPool2d(kernel_size=2), #(32/2 = 16)\n",
    "\n",
    "            nn.Conv2d(16,32,kernel_size=3,stride=1, padding = 1),\n",
    "            nn.BatchNorm2d(num_features=32),\n",
    "            nn.ReLU(),\n",
    "            nn.Conv2d(32,32,kernel_size=3,stride=1, padding = 1),\n",
    "            nn.BatchNorm2d(num_features=32),\n",
    "            nn.ReLU(),\n",
    "            nn.MaxPool2d(kernel_size=2), #(16/2 = 8)\n",
    "\n",
    "            nn.Conv2d(32,64,kernel_size=3,stride=1, padding = 1),\n",
    "            nn.BatchNorm2d(num_features=64),\n",
    "            nn.ReLU(),\n",
    "            nn.Conv2d(64,64,kernel_size=3,stride=1, padding = 1),\n",
    "            nn.BatchNorm2d(num_features=64),\n",
    "            nn.ReLU(),\n",
    "            nn.MaxPool2d(kernel_size=2),#(8/2 = 4)\n",
    "\n",
    "            nn.Conv2d(64,128,kernel_size=3,stride=1, padding = 1),\n",
    "            nn.BatchNorm2d(num_features=128),\n",
    "            nn.ReLU(),\n",
    "            nn.Conv2d(128,128,kernel_size=3,stride=1, padding = 1),\n",
    "            nn.BatchNorm2d(num_features=128),\n",
    "            nn.ReLU(),\n",
    "            nn.MaxPool2d(kernel_size=2),#(4/2 = 2)\n",
    "\n",
    "            nn.Flatten(),\n",
    "            nn.Linear(int(128*2**2),100),\n",
    "            nn.ReLU(),\n",
    "            nn.Dropout(0.1),\n",
    "            nn.Linear(100,out_ch),\n",
    "            nn.Dropout(0.1)\n",
    "        )\n",
    "    \n",
    "    def forward(self,x):\n",
    "        x = self.net(x)\n",
    "        y = F.softmax(x, dim=1)\n",
    "        return y"
   ]
  },
  {
   "cell_type": "code",
   "execution_count": 6,
   "metadata": {},
   "outputs": [
    {
     "name": "stdout",
     "output_type": "stream",
     "text": [
      "Files already downloaded and verified\n",
      "Files already downloaded and verified\n"
     ]
    }
   ],
   "source": [
    "# 平均と標準偏差を指定\n",
    "mean = [0.4914, 0.4822, 0.4465]\n",
    "std = [0.247, 0.243, 0.261]\n",
    "train = datasets.CIFAR10('data/', train=True, download=True,\n",
    "                            transform=torchvision.transforms.Compose([\n",
    "                            torchvision.transforms.ToTensor(),\n",
    "                            torchvision.transforms.Normalize(mean, std),\n",
    "                            #transforms.RandomRotation(10),\n",
    "                            #transforms.RandomHorizontalFlip(),\n",
    "                            \n",
    "                              ]),\n",
    "                              #target_transform=lambda y: torch.zeros(10, dtype=torch.float).scatter_(0, torch.tensor(y), value=1)\n",
    "                          )\n",
    "\n",
    "test  = datasets.CIFAR10('data/', train=False, download=True, \n",
    "                          transform=torchvision.transforms.Compose([\n",
    "                              torchvision.transforms.ToTensor(),\n",
    "                              torchvision.transforms.Normalize(mean, std),\n",
    "                              ]),\n",
    "                          #target_transform=lambda y: torch.zeros(10, dtype=torch.float).scatter_(0, torch.tensor(y), value=1)\n",
    "                        )\n"
   ]
  },
  {
   "cell_type": "code",
   "execution_count": 7,
   "metadata": {},
   "outputs": [],
   "source": [
    "device = 'cuda' if torch.cuda.is_available() == True else 'cpu'\n",
    "batch_size = 2048\n",
    "train_data = DataLoader(dataset=train,shuffle=True,batch_size=batch_size)\n",
    "test_data = DataLoader(dataset=test,shuffle=False,batch_size=batch_size)\n",
    "\n",
    "in_ch = 3\n",
    "out_ch = 10\n",
    "image_size = 32"
   ]
  },
  {
   "cell_type": "code",
   "execution_count": 8,
   "metadata": {},
   "outputs": [],
   "source": [
    "epoch = 60\n",
    "lr = 0.05"
   ]
  },
  {
   "cell_type": "code",
   "execution_count": 9,
   "metadata": {},
   "outputs": [],
   "source": [
    "conv_model = ConvNet(in_ch, out_ch, image_size=32).to(device)\n",
    "conv_optim = optim.SGD(lr=lr, params=conv_model.parameters(),momentum=0.9,weight_decay=0.001)\n",
    "#scheduler = optim.lr_scheduler.StepLR(conv_optim, step_size=20, gamma=0.05)\n",
    "loss_fn = nn.CrossEntropyLoss()"
   ]
  },
  {
   "cell_type": "code",
   "execution_count": null,
   "metadata": {},
   "outputs": [
    {
     "name": "stdout",
     "output_type": "stream",
     "text": [
      "epoch 59 accuracy : 0.7747641509433962\n"
     ]
    },
    {
     "data": {
      "image/png": "[encoded data removed]",
      "text/plain": [
       "<Figure size 640x480 with 1 Axes>"
      ]
     },
     "metadata": {},
     "output_type": "display_data"
    }
   ],
   "source": [
    "loss = []\n",
    "accuracy = []\n",
    "conv_loss=0\n",
    "for i in (range(epoch)):\n",
    "    for batch, (X, y) in enumerate(train_data):\n",
    "        X = X.to(device)\n",
    "        y = y.to(device)\n",
    "        conv_pred = conv_model(X)\n",
    "        conv_loss = loss_fn(conv_pred, y)\n",
    "\n",
    "        conv_optim.zero_grad()\n",
    "        conv_loss.backward()\n",
    "        conv_optim.step()\n",
    "         # 精度の計算\n",
    "        _, predicted = torch.max(conv_pred.data, 1)\n",
    "        total = y.size(0)\n",
    "        correct = (predicted == y).sum().item()\n",
    "        batch_accuracy = correct / total\n",
    "    accuracy.append(batch_accuracy)\n",
    "\n",
    "    #scheduler.step() \n",
    "    print(f'epoch {i} accuracy : {batch_accuracy}')\n",
    "    plt.plot(accuracy,linewidth=2,color='b')\n",
    "    plt.xlabel('epoch')\n",
    "    plt.ylabel('accuracy')\n",
    "    plt.show()\n",
    "    clear_output(wait=True)\n",
    "    #print(f'epoch {i} loss : {conv_loss.item()}')"
   ]
  },
  {
   "cell_type": "code",
   "execution_count": null,
   "metadata": {},
   "outputs": [
    {
     "name": "stdout",
     "output_type": "stream",
     "text": [
      "Accuracy of the ConvNetwork on the test data: 71 %\n"
     ]
    }
   ],
   "source": [
    "conv_correct = 0\n",
    "linear_correct = 0\n",
    "total = 0\n",
    "with torch.no_grad():\n",
    "    for X, y in (test_data):\n",
    "        X=X.to(device)\n",
    "        y=y.to(device)\n",
    "        conv_pred = conv_model(X)\n",
    "        total += y.size(0)\n",
    "        conv_correct += (conv_pred.argmax(1) == y).type(torch.float).sum().item()\n",
    "print('Accuracy of the ConvNetwork on the test data: %d %%' % (100 * conv_correct / total))\n"
   ]
  }
 ],
 "metadata": {
  "kernelspec": {
   "display_name": "sora_venv",
   "language": "python",
   "name": "sora_venv"
  },
  "language_info": {
   "codemirror_mode": {
    "name": "ipython",
    "version": 3
   },
   "file_extension": ".py",
   "mimetype": "text/x-python",
   "name": "python",
   "nbconvert_exporter": "python",
   "pygments_lexer": "ipython3",
   "version": "3.8.2"
  }
 },
 "nbformat": 4,
 "nbformat_minor": 2
}
